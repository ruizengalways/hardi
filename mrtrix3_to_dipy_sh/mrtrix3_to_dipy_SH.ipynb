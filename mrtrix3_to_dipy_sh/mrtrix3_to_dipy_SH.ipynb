{
 "cells": [
  {
   "cell_type": "markdown",
   "metadata": {},
   "source": [
    "# MRtrix3 vs. DIPY SH conventions\n",
    "\n",
    "MRtrix3 uses a slightly different spherical harmonic (SH) basis than DIPY. This notebook demonstrates the difference between the two bases using simulated data, and includes a short function that can convert a MRtrix3 SH image into the DIPY basis for further processing and visualization in Python."
   ]
  },
  {
   "cell_type": "markdown",
   "metadata": {},
   "source": [
    "## Generate fake data\n",
    "\n",
    "First, we generate some fake dMRI data:"
   ]
  },
  {
   "cell_type": "code",
   "execution_count": 1,
   "metadata": {},
   "outputs": [],
   "source": [
    "import numpy as np\n",
    "import nibabel as nib\n",
    "from dipy.data import get_sphere\n",
    "from dipy.reconst import shm\n",
    "\n",
    "np.random.seed(100)\n",
    "\n",
    "# Defining dMRI data directions\n",
    "sphere = get_sphere('symmetric362')\n",
    "\n",
    "# For simplicity, using just a single voxel\n",
    "shape = (1, 1, 1)\n",
    "\n",
    "# Shape is (1,1,1,362 + 1), adding one in last dimension\n",
    "# for b0\n",
    "data = np.zeros(shape + (sphere.vertices.shape[0] + 1,))\n",
    "\n",
    "# Define b0 value (parameters taken from one of my datasets)\n",
    "data[..., 0] = np.random.normal(0.566, 0.01, size=shape)\n",
    "\n",
    "# Define DWI values (again, parameters taken from one of my datasets)\n",
    "data[..., 1:] = np.random.normal(\n",
    "    0.334, 0.08, size=shape + (sphere.vertices.shape[0],))\n",
    "\n",
    "# Saving fake data\n",
    "nib.save(nib.Nifti1Image(data, np.eye(4)), 'fake_data.nii.gz')"
   ]
  },
  {
   "cell_type": "markdown",
   "metadata": {},
   "source": [
    "## Define bvals/bvecs \n",
    "\n",
    "MRtrix3 can use fsl-format gradient files to read the directions\n",
    "associated with the fake data. Here, I am using arbitrary\n",
    "values of: one b=0 volume, and b=1000 for the rest."
   ]
  },
  {
   "cell_type": "code",
   "execution_count": 2,
   "metadata": {},
   "outputs": [],
   "source": [
    "with open('bvals', 'w') as f:\n",
    "    f.write('0 ')\n",
    "    for i in range(sphere.vertices.shape[0]):\n",
    "        f.write('1000 ')\n",
    "\n",
    "with open('bvecs', 'w') as f:\n",
    "    f.write('0 ')\n",
    "    for x in sphere.vertices[:, 0]:\n",
    "        f.write('{} '.format(x))\n",
    "    f.write('\\n')\n",
    "\n",
    "    f.write('0 ')\n",
    "    for y in sphere.vertices[:, 1]:\n",
    "        f.write('{} '.format(y))\n",
    "    f.write('\\n')\n",
    "\n",
    "    f.write('0 ')\n",
    "    for z in sphere.vertices[:, 2]:\n",
    "        f.write('{} '.format(z))\n",
    "    f.write('\\n')"
   ]
  },
  {
   "cell_type": "markdown",
   "metadata": {},
   "source": [
    "We now have 'fake_data.nii.gz', 'bvals' and 'bvecs' in our directory:"
   ]
  },
  {
   "cell_type": "code",
   "execution_count": 3,
   "metadata": {},
   "outputs": [
    {
     "name": "stdout",
     "output_type": "stream",
     "text": [
      "bvals                     bvecs                     fake_data.nii.gz          mrtrix3_to_dipy_SH.ipynb\n"
     ]
    }
   ],
   "source": [
    "ls"
   ]
  },
  {
   "cell_type": "markdown",
   "metadata": {},
   "source": [
    "## Get SH coefficients from MRtrix3\n",
    "\n",
    "Next, use the MRtrix3 command `amp2sh` to expand the fake data\n",
    "onto SH coefficients in the MRtrix3 basis. \n",
    "\n",
    "Here, I am using a maximum SH order of 8"
   ]
  },
  {
   "cell_type": "code",
   "execution_count": 4,
   "metadata": {},
   "outputs": [
    {
     "name": "stdout",
     "output_type": "stream",
     "text": [
      "amp2sh: \u001b[00;31m[WARNING] existing output files will be overwritten\u001b[0m\n",
      "amp2sh: [100%] preloading data for \"fake_data.nii.gz\"\u001b[0K\n",
      "amp2sh: [100%] mapping amplitudes to SH coefficients\u001b[0K\n"
     ]
    }
   ],
   "source": [
    "!amp2sh -force -lmax 8 -fslgrad bvecs bvals -shells 1000 fake_data.nii.gz mrtrix_sh.nii.gz"
   ]
  },
  {
   "cell_type": "markdown",
   "metadata": {},
   "source": [
    "Now I have added 'mrtrix_sh.nii.gz' to the directory, which contains the SH coefficients\n",
    "of 'fake_data.nii.gz' in the MRtrix3 basis. "
   ]
  },
  {
   "cell_type": "code",
   "execution_count": 5,
   "metadata": {},
   "outputs": [
    {
     "name": "stdout",
     "output_type": "stream",
     "text": [
      "bvals                     bvecs                     fake_data.nii.gz          mrtrix3_to_dipy_SH.ipynb  mrtrix_sh.nii.gz\n"
     ]
    }
   ],
   "source": [
    "ls"
   ]
  },
  {
   "cell_type": "markdown",
   "metadata": {},
   "source": [
    "## Convert MRtrix3 coefficients and compare with DIPY\n",
    "\n",
    "First, expand `data` onto SH coefficients in the DIPY basis:"
   ]
  },
  {
   "cell_type": "code",
   "execution_count": 6,
   "metadata": {},
   "outputs": [],
   "source": [
    "from dipy.reconst import shm\n",
    "\n",
    "dipy_sh = shm.sf_to_sh(sf=data[...,1:],  # excluding the b=0 volume\n",
    "                      sphere=sphere,\n",
    "                      sh_order=8,\n",
    "                      basis_type=None,  # default DIPY basis\n",
    "                      smooth=0)"
   ]
  },
  {
   "cell_type": "markdown",
   "metadata": {},
   "source": [
    "Now, load the MRtrix3 SH coefficients:"
   ]
  },
  {
   "cell_type": "code",
   "execution_count": 7,
   "metadata": {},
   "outputs": [],
   "source": [
    "mrtrix_sh = nib.load('mrtrix_sh.nii.gz').get_fdata()"
   ]
  },
  {
   "cell_type": "markdown",
   "metadata": {},
   "source": [
    "Let's look at the n=2 coefficients, to see that they are similar, but in different\n",
    "order and sometimes a different sign:"
   ]
  },
  {
   "cell_type": "code",
   "execution_count": 8,
   "metadata": {},
   "outputs": [
    {
     "data": {
      "image/png": "[encoded data removed]",
      "text/plain": [
       "<Figure size 432x288 with 1 Axes>"
      ]
     },
     "metadata": {
      "needs_background": "light"
     },
     "output_type": "display_data"
    }
   ],
   "source": [
    "import matplotlib.pyplot as plt\n",
    "%matplotlib inline\n",
    "\n",
    "plt.plot(dipy_sh.flatten()[1:6], '.', label='DIPY')\n",
    "plt.plot(mrtrix_sh.flatten()[1:6], '.', label='MRtrix3')\n",
    "plt.title('DIPY vs MRtrix3, n=2')\n",
    "plt.legend();"
   ]
  },
  {
   "cell_type": "markdown",
   "metadata": {},
   "source": [
    "## 'tournier07' workflow:\n",
    "\n",
    "The current DIPY workflow would be to process `mrtrix_sh` like normal, passing the argument `basis_type='tournier07'` into the relevant functions. \n",
    "\n",
    "Let's look at ODFs generated in this way:"
   ]
  },
  {
   "cell_type": "code",
   "execution_count": 9,
   "metadata": {},
   "outputs": [
    {
     "name": "stderr",
     "output_type": "stream",
     "text": [
      "/Users/scotttrinkle/anaconda3/envs/main/lib/python3.6/site-packages/vtk/util/numpy_support.py:137: FutureWarning: Conversion of the second argument of issubdtype from `complex` to `np.complexfloating` is deprecated. In future, it will be treated as `np.complex128 == np.dtype(complex).type`.\n",
      "  assert not numpy.issubdtype(z.dtype, complex), \\\n"
     ]
    }
   ],
   "source": [
    "# Generate ODF from raw, uncorrected mrtrix coefficients using 'tournier07'\n",
    "mrodf = shm.sh_to_sf(mrtrix_sh, sphere=sphere, sh_order=8, basis_type='tournier07')\n",
    "\n",
    "# Generate ODF from dipy\n",
    "dipyodf = shm.sh_to_sf(dipy_sh, sphere=sphere, sh_order=8, basis_type=None)\n",
    "\n",
    "# Join into single odf array\n",
    "odf = np.zeros((2,1,1,mrodf.size))\n",
    "odf[0] = mrodf\n",
    "odf[1] = dipyodf\n",
    "\n",
    "# Visualize\n",
    "from dipy.viz import window, actor\n",
    "ren = window.Renderer()\n",
    "ren.add(actor.odf_slicer(odf, sphere=sphere, norm=False, scale=0.8))\n",
    "window.record(ren, out_path='odf_comparison.png', size=(600,600))"
   ]
  },
  {
   "cell_type": "markdown",
   "metadata": {},
   "source": [
    "![](odf_comparison.png)"
   ]
  },
  {
   "cell_type": "markdown",
   "metadata": {},
   "source": [
    "Here, the MRtrix3 ODF is on the left, and the DIPY ODF is on the right. We see that they are mirror images of each other, something that the `basis_type='tournier07'` command is doing is not orienting the ODF properly. "
   ]
  },
  {
   "cell_type": "markdown",
   "metadata": {},
   "source": [
    "## Utility conversion function\n",
    "\n",
    "Here, I define a simple utility function to reorder and reorient the SH coefficients from MRtrix3 into the default DIPY basis:"
   ]
  },
  {
   "cell_type": "code",
   "execution_count": 10,
   "metadata": {},
   "outputs": [],
   "source": [
    "def mrtrix_to_dipy_sh(mrtrix_sh):\n",
    "    '''\n",
    "    Takes a 4D spherical harmonic image from MRTrix3\n",
    "    and converts it to the proper SH ordering and\n",
    "    basis for further processing / visualization\n",
    "    in DIPY.\n",
    "    \n",
    "    Parameters\n",
    "    __________\n",
    "    mrtrix_sh : ndarray (x, y, z, ncoef)\n",
    "        SH image in MRtrix3 basis. This might be generated \n",
    "        by the `amp2sh` or `dwi2fod` commands, for example.\n",
    "    \n",
    "    Returns\n",
    "    _______\n",
    "    dipy_sh : ndarray (x, y, z, ncoef)\n",
    "        The same SH image converted into the standard DIPY\n",
    "        basis.    \n",
    "    '''\n",
    "\n",
    "    # Derive sh_order from data shape\n",
    "    ncoef = mrtrix_sh.shape[-1]\n",
    "    sh_order = shm.order_from_ncoef(ncoef)\n",
    "    \n",
    "    # Get list of (m, n) SH indices from sh_order\n",
    "    ms, ns = shm.sph_harm_ind_list(sh_order)\n",
    "\n",
    "    # Generate transform matrix\n",
    "    A = np.zeros((ncoef, ncoef))\n",
    "    for i, (m, n) in enumerate(zip(ms, ns)):\n",
    "        # MRtrix3 switches order of 'm' vs '-m'\n",
    "        j = np.where((ns == n) & (ms == -m))[0][0]\n",
    "        \n",
    "        # There is also a complicated (-1) factor for\n",
    "        # certain ms. Not entirely sure what is going\n",
    "        # on here, but empirically, this works.\n",
    "        A[i, j] = (-1.) ** m if m <= 0 else (-1.) ** (m+1)\n",
    "\n",
    "    dipy_sh = np.dot(mrtrix_sh, A.T)\n",
    "    return dipy_sh"
   ]
  },
  {
   "cell_type": "markdown",
   "metadata": {},
   "source": [
    "## Apply conversion function:"
   ]
  },
  {
   "cell_type": "markdown",
   "metadata": {},
   "source": [
    "Now, apply the conversion function and compare to the DIPY coefficients:"
   ]
  },
  {
   "cell_type": "code",
   "execution_count": 11,
   "metadata": {},
   "outputs": [
    {
     "data": {
      "image/png": "[encoded data removed]",
      "text/plain": [
       "<Figure size 432x288 with 1 Axes>"
      ]
     },
     "metadata": {
      "needs_background": "light"
     },
     "output_type": "display_data"
    }
   ],
   "source": [
    "mrtrix_sh_fixed = mrtrix_to_dipy_sh(mrtrix_sh)\n",
    "\n",
    "plt.plot(dipy_sh.flatten()[1:6], '.', label='DIPY')\n",
    "plt.plot(mrtrix_sh_fixed.flatten()[1:6], '.', label='MRtrix3')\n",
    "plt.title('DIPY vs MRtrix3 fixed, n=2')\n",
    "plt.legend();"
   ]
  },
  {
   "cell_type": "markdown",
   "metadata": {},
   "source": [
    "They are now in the same basis and order, and virtually identical. To quantify the difference:"
   ]
  },
  {
   "cell_type": "code",
   "execution_count": 12,
   "metadata": {},
   "outputs": [
    {
     "name": "stdout",
     "output_type": "stream",
     "text": [
      "Mean difference:  -1.3844021925989698e-09\n",
      "Maximum difference:  4.638935680902068e-09\n"
     ]
    }
   ],
   "source": [
    "difference = dipy_sh - mrtrix_sh_fixed\n",
    "\n",
    "print('Mean difference: ', difference.mean())\n",
    "print('Maximum difference: ', difference.max())"
   ]
  },
  {
   "cell_type": "markdown",
   "metadata": {},
   "source": [
    "# Conclusion\n",
    "\n",
    "This function allows you to import SH images calculated in a MRtrix3 basis into Python to process and visualize with DIPY. Of course, make sure to always visualize and make sure the ODFs appear reasonable before proceeding."
   ]
  }
 ],
 "metadata": {
  "kernelspec": {
   "display_name": "Python 3",
   "language": "python",
   "name": "python3"
  },
  "language_info": {
   "codemirror_mode": {
    "name": "ipython",
    "version": 3
   },
   "file_extension": ".py",
   "mimetype": "text/x-python",
   "name": "python",
   "nbconvert_exporter": "python",
   "pygments_lexer": "ipython3",
   "version": "3.6.1"
  }
 },
 "nbformat": 4,
 "nbformat_minor": 2
}
